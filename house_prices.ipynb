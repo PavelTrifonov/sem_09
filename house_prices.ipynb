{
 "cells": [
  {
   "cell_type": "code",
   "execution_count": 1,
   "metadata": {},
   "outputs": [],
   "source": [
    "import pandas as pd\n",
    "import matplotlib.pyplot as plt"
   ]
  },
  {
   "cell_type": "markdown",
   "metadata": {},
   "source": [
    "Загрузим и просмотрим интересующий нас датасет"
   ]
  },
  {
   "cell_type": "code",
   "execution_count": 2,
   "metadata": {},
   "outputs": [
    {
     "name": "stdout",
     "output_type": "stream",
     "text": [
      "<class 'pandas.core.frame.DataFrame'>\n",
      "RangeIndex: 1459 entries, 0 to 1458\n",
      "Data columns (total 80 columns):\n",
      " #   Column         Non-Null Count  Dtype  \n",
      "---  ------         --------------  -----  \n",
      " 0   Id             1459 non-null   int64  \n",
      " 1   MSSubClass     1459 non-null   int64  \n",
      " 2   MSZoning       1455 non-null   object \n",
      " 3   LotFrontage    1232 non-null   float64\n",
      " 4   LotArea        1459 non-null   int64  \n",
      " 5   Street         1459 non-null   object \n",
      " 6   Alley          107 non-null    object \n",
      " 7   LotShape       1459 non-null   object \n",
      " 8   LandContour    1459 non-null   object \n",
      " 9   Utilities      1457 non-null   object \n",
      " 10  LotConfig      1459 non-null   object \n",
      " 11  LandSlope      1459 non-null   object \n",
      " 12  Neighborhood   1459 non-null   object \n",
      " 13  Condition1     1459 non-null   object \n",
      " 14  Condition2     1459 non-null   object \n",
      " 15  BldgType       1459 non-null   object \n",
      " 16  HouseStyle     1459 non-null   object \n",
      " 17  OverallQual    1459 non-null   int64  \n",
      " 18  OverallCond    1459 non-null   int64  \n",
      " 19  YearBuilt      1459 non-null   int64  \n",
      " 20  YearRemodAdd   1459 non-null   int64  \n",
      " 21  RoofStyle      1459 non-null   object \n",
      " 22  RoofMatl       1459 non-null   object \n",
      " 23  Exterior1st    1458 non-null   object \n",
      " 24  Exterior2nd    1458 non-null   object \n",
      " 25  MasVnrType     565 non-null    object \n",
      " 26  MasVnrArea     1444 non-null   float64\n",
      " 27  ExterQual      1459 non-null   object \n",
      " 28  ExterCond      1459 non-null   object \n",
      " 29  Foundation     1459 non-null   object \n",
      " 30  BsmtQual       1415 non-null   object \n",
      " 31  BsmtCond       1414 non-null   object \n",
      " 32  BsmtExposure   1415 non-null   object \n",
      " 33  BsmtFinType1   1417 non-null   object \n",
      " 34  BsmtFinSF1     1458 non-null   float64\n",
      " 35  BsmtFinType2   1417 non-null   object \n",
      " 36  BsmtFinSF2     1458 non-null   float64\n",
      " 37  BsmtUnfSF      1458 non-null   float64\n",
      " 38  TotalBsmtSF    1458 non-null   float64\n",
      " 39  Heating        1459 non-null   object \n",
      " 40  HeatingQC      1459 non-null   object \n",
      " 41  CentralAir     1459 non-null   object \n",
      " 42  Electrical     1459 non-null   object \n",
      " 43  1stFlrSF       1459 non-null   int64  \n",
      " 44  2ndFlrSF       1459 non-null   int64  \n",
      " 45  LowQualFinSF   1459 non-null   int64  \n",
      " 46  GrLivArea      1459 non-null   int64  \n",
      " 47  BsmtFullBath   1457 non-null   float64\n",
      " 48  BsmtHalfBath   1457 non-null   float64\n",
      " 49  FullBath       1459 non-null   int64  \n",
      " 50  HalfBath       1459 non-null   int64  \n",
      " 51  BedroomAbvGr   1459 non-null   int64  \n",
      " 52  KitchenAbvGr   1459 non-null   int64  \n",
      " 53  KitchenQual    1458 non-null   object \n",
      " 54  TotRmsAbvGrd   1459 non-null   int64  \n",
      " 55  Functional     1457 non-null   object \n",
      " 56  Fireplaces     1459 non-null   int64  \n",
      " 57  FireplaceQu    729 non-null    object \n",
      " 58  GarageType     1383 non-null   object \n",
      " 59  GarageYrBlt    1381 non-null   float64\n",
      " 60  GarageFinish   1381 non-null   object \n",
      " 61  GarageCars     1458 non-null   float64\n",
      " 62  GarageArea     1458 non-null   float64\n",
      " 63  GarageQual     1381 non-null   object \n",
      " 64  GarageCond     1381 non-null   object \n",
      " 65  PavedDrive     1459 non-null   object \n",
      " 66  WoodDeckSF     1459 non-null   int64  \n",
      " 67  OpenPorchSF    1459 non-null   int64  \n",
      " 68  EnclosedPorch  1459 non-null   int64  \n",
      " 69  3SsnPorch      1459 non-null   int64  \n",
      " 70  ScreenPorch    1459 non-null   int64  \n",
      " 71  PoolArea       1459 non-null   int64  \n",
      " 72  PoolQC         3 non-null      object \n",
      " 73  Fence          290 non-null    object \n",
      " 74  MiscFeature    51 non-null     object \n",
      " 75  MiscVal        1459 non-null   int64  \n",
      " 76  MoSold         1459 non-null   int64  \n",
      " 77  YrSold         1459 non-null   int64  \n",
      " 78  SaleType       1458 non-null   object \n",
      " 79  SaleCondition  1459 non-null   object \n",
      "dtypes: float64(11), int64(26), object(43)\n",
      "memory usage: 912.0+ KB\n"
     ]
    }
   ],
   "source": [
    "df = pd.read_csv(\"test.csv\")\n",
    "df.info()"
   ]
  },
  {
   "cell_type": "markdown",
   "metadata": {},
   "source": [
    "Очистим наш датасет от колонок, в которых больше 10% данных пустые"
   ]
  },
  {
   "cell_type": "code",
   "execution_count": 3,
   "metadata": {},
   "outputs": [
    {
     "data": {
      "text/plain": [
       "Index(['Id', 'MSSubClass', 'MSZoning', 'LotArea', 'Street', 'LotShape',\n",
       "       'LandContour', 'Utilities', 'LotConfig', 'LandSlope', 'Neighborhood',\n",
       "       'Condition1', 'Condition2', 'BldgType', 'HouseStyle', 'OverallQual',\n",
       "       'OverallCond', 'YearBuilt', 'YearRemodAdd', 'RoofStyle', 'RoofMatl',\n",
       "       'Exterior1st', 'Exterior2nd', 'MasVnrArea', 'ExterQual', 'ExterCond',\n",
       "       'Foundation', 'BsmtQual', 'BsmtCond', 'BsmtExposure', 'BsmtFinType1',\n",
       "       'BsmtFinSF1', 'BsmtFinType2', 'BsmtFinSF2', 'BsmtUnfSF', 'TotalBsmtSF',\n",
       "       'Heating', 'HeatingQC', 'CentralAir', 'Electrical', '1stFlrSF',\n",
       "       '2ndFlrSF', 'LowQualFinSF', 'GrLivArea', 'BsmtFullBath', 'BsmtHalfBath',\n",
       "       'FullBath', 'HalfBath', 'BedroomAbvGr', 'KitchenAbvGr', 'KitchenQual',\n",
       "       'TotRmsAbvGrd', 'Functional', 'Fireplaces', 'GarageType', 'GarageYrBlt',\n",
       "       'GarageFinish', 'GarageCars', 'GarageArea', 'GarageQual', 'GarageCond',\n",
       "       'PavedDrive', 'WoodDeckSF', 'OpenPorchSF', 'EnclosedPorch', '3SsnPorch',\n",
       "       'ScreenPorch', 'PoolArea', 'MiscVal', 'MoSold', 'YrSold', 'SaleType',\n",
       "       'SaleCondition'],\n",
       "      dtype='object')"
      ]
     },
     "execution_count": 3,
     "metadata": {},
     "output_type": "execute_result"
    }
   ],
   "source": [
    "count_values = df.Id.count()\n",
    "count_null = df.isnull().sum()\n",
    "filter_null = count_null[count_null/count_values>0.1].index\n",
    "df = df.drop(columns=filter_null)\n",
    "df.columns"
   ]
  },
  {
   "cell_type": "markdown",
   "metadata": {},
   "source": [
    "Соберем оставшиеся колонки, имеющие пустые значения, в список"
   ]
  },
  {
   "cell_type": "code",
   "execution_count": 4,
   "metadata": {},
   "outputs": [
    {
     "data": {
      "text/plain": [
       "Index(['MSZoning', 'Utilities', 'Exterior1st', 'Exterior2nd', 'MasVnrArea',\n",
       "       'BsmtQual', 'BsmtCond', 'BsmtExposure', 'BsmtFinType1', 'BsmtFinSF1',\n",
       "       'BsmtFinType2', 'BsmtFinSF2', 'BsmtUnfSF', 'TotalBsmtSF',\n",
       "       'BsmtFullBath', 'BsmtHalfBath', 'KitchenQual', 'Functional',\n",
       "       'GarageType', 'GarageYrBlt', 'GarageFinish', 'GarageCars', 'GarageArea',\n",
       "       'GarageQual', 'GarageCond', 'SaleType'],\n",
       "      dtype='object')"
      ]
     },
     "execution_count": 4,
     "metadata": {},
     "output_type": "execute_result"
    }
   ],
   "source": [
    "count_null = df.isnull().sum()\n",
    "filter_null = count_null[count_null>0].index\n",
    "filter_null"
   ]
  },
  {
   "cell_type": "markdown",
   "metadata": {},
   "source": [
    "Определим к какому типу данных относятся колонки, с пустыми значениями"
   ]
  },
  {
   "cell_type": "code",
   "execution_count": 5,
   "metadata": {},
   "outputs": [
    {
     "name": "stdout",
     "output_type": "stream",
     "text": [
      "<class 'pandas.core.frame.DataFrame'>\n",
      "RangeIndex: 1459 entries, 0 to 1458\n",
      "Data columns (total 26 columns):\n",
      " #   Column        Non-Null Count  Dtype  \n",
      "---  ------        --------------  -----  \n",
      " 0   MSZoning      1455 non-null   object \n",
      " 1   Utilities     1457 non-null   object \n",
      " 2   Exterior1st   1458 non-null   object \n",
      " 3   Exterior2nd   1458 non-null   object \n",
      " 4   MasVnrArea    1444 non-null   float64\n",
      " 5   BsmtQual      1415 non-null   object \n",
      " 6   BsmtCond      1414 non-null   object \n",
      " 7   BsmtExposure  1415 non-null   object \n",
      " 8   BsmtFinType1  1417 non-null   object \n",
      " 9   BsmtFinSF1    1458 non-null   float64\n",
      " 10  BsmtFinType2  1417 non-null   object \n",
      " 11  BsmtFinSF2    1458 non-null   float64\n",
      " 12  BsmtUnfSF     1458 non-null   float64\n",
      " 13  TotalBsmtSF   1458 non-null   float64\n",
      " 14  BsmtFullBath  1457 non-null   float64\n",
      " 15  BsmtHalfBath  1457 non-null   float64\n",
      " 16  KitchenQual   1458 non-null   object \n",
      " 17  Functional    1457 non-null   object \n",
      " 18  GarageType    1383 non-null   object \n",
      " 19  GarageYrBlt   1381 non-null   float64\n",
      " 20  GarageFinish  1381 non-null   object \n",
      " 21  GarageCars    1458 non-null   float64\n",
      " 22  GarageArea    1458 non-null   float64\n",
      " 23  GarageQual    1381 non-null   object \n",
      " 24  GarageCond    1381 non-null   object \n",
      " 25  SaleType      1458 non-null   object \n",
      "dtypes: float64(10), object(16)\n",
      "memory usage: 296.5+ KB\n"
     ]
    }
   ],
   "source": [
    "df_1 = df[filter_null]\n",
    "df_1.info()"
   ]
  },
  {
   "cell_type": "markdown",
   "metadata": {},
   "source": [
    "Заполним пустые значения медианным для числовых столбов и часто встречающемся значением для строковых столбцов"
   ]
  },
  {
   "cell_type": "code",
   "execution_count": 6,
   "metadata": {},
   "outputs": [],
   "source": [
    "for i in filter_null:\n",
    "    if df[i].dtype=='O':\n",
    "        most_frequent_values = df[i].mode().iloc[0]\n",
    "        df[i] = df[i].fillna(most_frequent_values)\n",
    "    elif df[i].dtype=='float64':\n",
    "        median_values = df[i].median()\n",
    "        df[i] = df[i].fillna(median_values)\n",
    "        df[i] = df[i].astype('int64')\n"
   ]
  },
  {
   "cell_type": "markdown",
   "metadata": {},
   "source": [
    "Проверим заполненность столбцов"
   ]
  },
  {
   "cell_type": "code",
   "execution_count": 7,
   "metadata": {},
   "outputs": [
    {
     "name": "stdout",
     "output_type": "stream",
     "text": [
      "<class 'pandas.core.frame.DataFrame'>\n",
      "RangeIndex: 1459 entries, 0 to 1458\n",
      "Data columns (total 26 columns):\n",
      " #   Column        Non-Null Count  Dtype \n",
      "---  ------        --------------  ----- \n",
      " 0   MSZoning      1459 non-null   object\n",
      " 1   Utilities     1459 non-null   object\n",
      " 2   Exterior1st   1459 non-null   object\n",
      " 3   Exterior2nd   1459 non-null   object\n",
      " 4   MasVnrArea    1459 non-null   int64 \n",
      " 5   BsmtQual      1459 non-null   object\n",
      " 6   BsmtCond      1459 non-null   object\n",
      " 7   BsmtExposure  1459 non-null   object\n",
      " 8   BsmtFinType1  1459 non-null   object\n",
      " 9   BsmtFinSF1    1459 non-null   int64 \n",
      " 10  BsmtFinType2  1459 non-null   object\n",
      " 11  BsmtFinSF2    1459 non-null   int64 \n",
      " 12  BsmtUnfSF     1459 non-null   int64 \n",
      " 13  TotalBsmtSF   1459 non-null   int64 \n",
      " 14  BsmtFullBath  1459 non-null   int64 \n",
      " 15  BsmtHalfBath  1459 non-null   int64 \n",
      " 16  KitchenQual   1459 non-null   object\n",
      " 17  Functional    1459 non-null   object\n",
      " 18  GarageType    1459 non-null   object\n",
      " 19  GarageYrBlt   1459 non-null   int64 \n",
      " 20  GarageFinish  1459 non-null   object\n",
      " 21  GarageCars    1459 non-null   int64 \n",
      " 22  GarageArea    1459 non-null   int64 \n",
      " 23  GarageQual    1459 non-null   object\n",
      " 24  GarageCond    1459 non-null   object\n",
      " 25  SaleType      1459 non-null   object\n",
      "dtypes: int64(10), object(16)\n",
      "memory usage: 296.5+ KB\n"
     ]
    }
   ],
   "source": [
    "df_1 = df[filter_null]\n",
    "df_1.info()"
   ]
  },
  {
   "cell_type": "code",
   "execution_count": 8,
   "metadata": {},
   "outputs": [
    {
     "data": {
      "text/plain": [
       "Index([], dtype='object')"
      ]
     },
     "execution_count": 8,
     "metadata": {},
     "output_type": "execute_result"
    }
   ],
   "source": [
    "count_null = df.isnull().sum()\n",
    "filter_null = count_null[count_null>0].index\n",
    "filter_null"
   ]
  },
  {
   "cell_type": "markdown",
   "metadata": {},
   "source": [
    "Удалим дубликаты строк"
   ]
  },
  {
   "cell_type": "code",
   "execution_count": 9,
   "metadata": {},
   "outputs": [
    {
     "name": "stdout",
     "output_type": "stream",
     "text": [
      "<class 'pandas.core.frame.DataFrame'>\n",
      "RangeIndex: 1459 entries, 0 to 1458\n",
      "Data columns (total 73 columns):\n",
      " #   Column         Non-Null Count  Dtype \n",
      "---  ------         --------------  ----- \n",
      " 0   Id             1459 non-null   int64 \n",
      " 1   MSSubClass     1459 non-null   int64 \n",
      " 2   MSZoning       1459 non-null   object\n",
      " 3   LotArea        1459 non-null   int64 \n",
      " 4   Street         1459 non-null   object\n",
      " 5   LotShape       1459 non-null   object\n",
      " 6   LandContour    1459 non-null   object\n",
      " 7   Utilities      1459 non-null   object\n",
      " 8   LotConfig      1459 non-null   object\n",
      " 9   LandSlope      1459 non-null   object\n",
      " 10  Neighborhood   1459 non-null   object\n",
      " 11  Condition1     1459 non-null   object\n",
      " 12  Condition2     1459 non-null   object\n",
      " 13  BldgType       1459 non-null   object\n",
      " 14  HouseStyle     1459 non-null   object\n",
      " 15  OverallQual    1459 non-null   int64 \n",
      " 16  OverallCond    1459 non-null   int64 \n",
      " 17  YearBuilt      1459 non-null   int64 \n",
      " 18  YearRemodAdd   1459 non-null   int64 \n",
      " 19  RoofStyle      1459 non-null   object\n",
      " 20  RoofMatl       1459 non-null   object\n",
      " 21  Exterior1st    1459 non-null   object\n",
      " 22  Exterior2nd    1459 non-null   object\n",
      " 23  MasVnrArea     1459 non-null   int64 \n",
      " 24  ExterQual      1459 non-null   object\n",
      " 25  ExterCond      1459 non-null   object\n",
      " 26  Foundation     1459 non-null   object\n",
      " 27  BsmtQual       1459 non-null   object\n",
      " 28  BsmtCond       1459 non-null   object\n",
      " 29  BsmtExposure   1459 non-null   object\n",
      " 30  BsmtFinType1   1459 non-null   object\n",
      " 31  BsmtFinSF1     1459 non-null   int64 \n",
      " 32  BsmtFinType2   1459 non-null   object\n",
      " 33  BsmtFinSF2     1459 non-null   int64 \n",
      " 34  BsmtUnfSF      1459 non-null   int64 \n",
      " 35  TotalBsmtSF    1459 non-null   int64 \n",
      " 36  Heating        1459 non-null   object\n",
      " 37  HeatingQC      1459 non-null   object\n",
      " 38  CentralAir     1459 non-null   object\n",
      " 39  Electrical     1459 non-null   object\n",
      " 40  1stFlrSF       1459 non-null   int64 \n",
      " 41  2ndFlrSF       1459 non-null   int64 \n",
      " 42  LowQualFinSF   1459 non-null   int64 \n",
      " 43  GrLivArea      1459 non-null   int64 \n",
      " 44  BsmtFullBath   1459 non-null   int64 \n",
      " 45  BsmtHalfBath   1459 non-null   int64 \n",
      " 46  FullBath       1459 non-null   int64 \n",
      " 47  HalfBath       1459 non-null   int64 \n",
      " 48  BedroomAbvGr   1459 non-null   int64 \n",
      " 49  KitchenAbvGr   1459 non-null   int64 \n",
      " 50  KitchenQual    1459 non-null   object\n",
      " 51  TotRmsAbvGrd   1459 non-null   int64 \n",
      " 52  Functional     1459 non-null   object\n",
      " 53  Fireplaces     1459 non-null   int64 \n",
      " 54  GarageType     1459 non-null   object\n",
      " 55  GarageYrBlt    1459 non-null   int64 \n",
      " 56  GarageFinish   1459 non-null   object\n",
      " 57  GarageCars     1459 non-null   int64 \n",
      " 58  GarageArea     1459 non-null   int64 \n",
      " 59  GarageQual     1459 non-null   object\n",
      " 60  GarageCond     1459 non-null   object\n",
      " 61  PavedDrive     1459 non-null   object\n",
      " 62  WoodDeckSF     1459 non-null   int64 \n",
      " 63  OpenPorchSF    1459 non-null   int64 \n",
      " 64  EnclosedPorch  1459 non-null   int64 \n",
      " 65  3SsnPorch      1459 non-null   int64 \n",
      " 66  ScreenPorch    1459 non-null   int64 \n",
      " 67  PoolArea       1459 non-null   int64 \n",
      " 68  MiscVal        1459 non-null   int64 \n",
      " 69  MoSold         1459 non-null   int64 \n",
      " 70  YrSold         1459 non-null   int64 \n",
      " 71  SaleType       1459 non-null   object\n",
      " 72  SaleCondition  1459 non-null   object\n",
      "dtypes: int64(36), object(37)\n",
      "memory usage: 832.2+ KB\n"
     ]
    }
   ],
   "source": [
    "df = df.drop_duplicates()\n",
    "df.info()"
   ]
  },
  {
   "cell_type": "markdown",
   "metadata": {},
   "source": [
    "Запишем строковые столбцы в новый датафрейм и создадим соответсвующий csv файл, который можно проанализировать в расширении excel view на соответсвие типу данных"
   ]
  },
  {
   "cell_type": "code",
   "execution_count": 10,
   "metadata": {},
   "outputs": [],
   "source": [
    "cloumns_object = df.select_dtypes(include='object').columns\n",
    "df[cloumns_object].to_csv(\"columns_object.csv\")"
   ]
  },
  {
   "cell_type": "code",
   "execution_count": 11,
   "metadata": {},
   "outputs": [],
   "source": [
    "df.to_csv(\"new_test.csv\",index=False)"
   ]
  }
 ],
 "metadata": {
  "kernelspec": {
   "display_name": "Python 3",
   "language": "python",
   "name": "python3"
  },
  "language_info": {
   "codemirror_mode": {
    "name": "ipython",
    "version": 3
   },
   "file_extension": ".py",
   "mimetype": "text/x-python",
   "name": "python",
   "nbconvert_exporter": "python",
   "pygments_lexer": "ipython3",
   "version": "3.11.3"
  }
 },
 "nbformat": 4,
 "nbformat_minor": 2
}
